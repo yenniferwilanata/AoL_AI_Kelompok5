{
 "cells": [
  {
   "attachments": {},
   "cell_type": "markdown",
   "metadata": {},
   "source": [
    "Library"
   ]
  },
  {
   "cell_type": "code",
   "execution_count": 1,
   "metadata": {},
   "outputs": [],
   "source": [
    "from pathlib import Path\n",
    "import face_recognition\n",
    "import pickle\n",
    "from collections import Counter\n",
    "from PIL import Image, ImageDraw\n",
    "import cv2\n",
    "import sys\n",
    "from time import sleep\n",
    "import random\n",
    "import string\n",
    "import pandas as pd\n",
    "import numpy as np\n",
    "from sklearn.svm import SVC"
   ]
  },
  {
   "attachments": {},
   "cell_type": "markdown",
   "metadata": {},
   "source": [
    "Set file path"
   ]
  },
  {
   "cell_type": "code",
   "execution_count": 2,
   "metadata": {},
   "outputs": [],
   "source": [
    "DEFAULT_ENCODING_PATH = Path(\"output/encodings.pkl\")\n",
    "BOUNDING_BOX_COLOR = \"green\"\n",
    "TEXT_COLOR = \"white\"\n",
    "\n",
    "Path(\"training\").mkdir(exist_ok=True)\n",
    "Path(\"output\").mkdir(exist_ok=True)\n",
    "Path(\"validation\").mkdir(exist_ok=True)\n",
    "Path(\"img_out\").mkdir(exist_ok=True)"
   ]
  },
  {
   "attachments": {},
   "cell_type": "markdown",
   "metadata": {},
   "source": [
    "Fungsi untuk encoding wajah menggunakan histogram of oriented gradients"
   ]
  },
  {
   "cell_type": "code",
   "execution_count": 3,
   "metadata": {},
   "outputs": [],
   "source": [
    "def encode_known_faces(\n",
    "    model: str = \"hog\", encodings_location: Path = DEFAULT_ENCODING_PATH\n",
    ") -> None:\n",
    "    names = []\n",
    "    encodings = []\n",
    "    for filepath in Path(\"training\").glob(\"*/*\"):\n",
    "        name = filepath.parent.name\n",
    "        image = face_recognition.load_image_file(filepath)\n",
    "\n",
    "        face_locations = face_recognition.face_locations(image, model=model)\n",
    "        face_encodings = face_recognition.face_encodings(image, face_locations)\n",
    "\n",
    "        for encoding in face_encodings:\n",
    "            names.append(name)\n",
    "            encodings.append(encoding)\n",
    "\n",
    "    name_encodings = {\"names\": names, \"encodings\": encodings}\n",
    "    with encodings_location.open(mode=\"wb\") as f:\n",
    "        pickle.dump(name_encodings, f)"
   ]
  },
  {
   "attachments": {},
   "cell_type": "markdown",
   "metadata": {},
   "source": [
    "Fungsi untuk mengambil gambar menggunakan webcam"
   ]
  },
  {
   "cell_type": "code",
   "execution_count": 4,
   "metadata": {},
   "outputs": [],
   "source": [
    "def img_capture():\n",
    "    key = cv2.waitKey(1)\n",
    "    webcam = cv2.VideoCapture(0)\n",
    "    sleep(2)\n",
    "    while True:\n",
    "\n",
    "        try:\n",
    "            check, frame = webcam.read()\n",
    "        \n",
    "            cv2.imshow(\"Capturing\", frame)\n",
    "            key = cv2.waitKey(1)\n",
    "            if key == ord('s'): \n",
    "                cv2.imwrite(filename='identify.jpg', img=frame)\n",
    "                webcam.release()\n",
    "                cv2.destroyAllWindows()                             \n",
    "                break\n",
    "        \n",
    "            elif key == ord('q'):\n",
    "                webcam.release()\n",
    "                cv2.destroyAllWindows()\n",
    "                break\n",
    "    \n",
    "        except(KeyboardInterrupt):\n",
    "            print(\"Turning camera off\")\n",
    "            webcam.release()        \n",
    "            cv2.destroyAllWindows()\n",
    "            break"
   ]
  },
  {
   "attachments": {},
   "cell_type": "markdown",
   "metadata": {},
   "source": [
    "Memanggil fungsi encoding wajah"
   ]
  },
  {
   "cell_type": "code",
   "execution_count": 5,
   "metadata": {},
   "outputs": [],
   "source": [
    "encode_known_faces()"
   ]
  },
  {
   "attachments": {},
   "cell_type": "markdown",
   "metadata": {},
   "source": [
    "Membuat list nama"
   ]
  },
  {
   "cell_type": "code",
   "execution_count": 6,
   "metadata": {},
   "outputs": [],
   "source": [
    "name_list = []\n",
    "unique_name_list = []\n",
    "\n",
    "for filepath in Path(\"training\").glob(\"*/*\"):\n",
    "    name_list.append(filepath.parent.name)\n",
    "\n",
    "for i in range(len(name_list)):\n",
    "    if name_list[i] not in unique_name_list:\n",
    "        unique_name_list.append(name_list[i])\n",
    "    else: continue"
   ]
  },
  {
   "attachments": {},
   "cell_type": "markdown",
   "metadata": {},
   "source": [
    "Fungsi konversi data encoding wajah untuk training SVM"
   ]
  },
  {
   "cell_type": "code",
   "execution_count": 7,
   "metadata": {},
   "outputs": [],
   "source": [
    "def train_svm():  \n",
    "    f = DEFAULT_ENCODING_PATH.open(mode = 'rb')\n",
    "\n",
    "    df_known = pd.DataFrame(pickle.load(f))\n",
    "\n",
    "    df_encodings = pd.DataFrame(df_known['encodings'])\n",
    "\n",
    "    encodings_list = [[ df_encodings['encodings'][i][j] for i in range(len(df_encodings['encodings']))] for j in range(len(df_encodings['encodings'][0]))]\n",
    "\n",
    "    df_encodings_list = pd.DataFrame(encodings_list)\n",
    "\n",
    "    df_enc = df_encodings_list.transpose()\n",
    "\n",
    "    target = []\n",
    "\n",
    "    for i in range(len(df_known['names'])):\n",
    "        for j in range(len(unique_name_list)):\n",
    "            if df_known['names'][i] == unique_name_list[j]:\n",
    "                target.append(j)\n",
    "            else: continue\n",
    "\n",
    "    array_target = np.array(target)\n",
    "\n",
    "    model_svm = SVC()\n",
    "    model_svm.fit(df_enc, array_target)\n",
    "\n",
    "    return model_svm"
   ]
  },
  {
   "attachments": {},
   "cell_type": "markdown",
   "metadata": {},
   "source": [
    "Memanggil fungsi training SVM dan simpan hasilnya"
   ]
  },
  {
   "cell_type": "code",
   "execution_count": 8,
   "metadata": {},
   "outputs": [],
   "source": [
    "model_svm = train_svm()"
   ]
  },
  {
   "attachments": {},
   "cell_type": "markdown",
   "metadata": {},
   "source": [
    "Fungsi untuk mengenali wajah menggunakan SVM"
   ]
  },
  {
   "cell_type": "code",
   "execution_count": 28,
   "metadata": {},
   "outputs": [],
   "source": [
    "def recognize_face(\n",
    "    image_location: str,\n",
    "    model: str = \"hog\",\n",
    "    encodings_location: Path = DEFAULT_ENCODING_PATH,\n",
    ") -> None:\n",
    "    with encodings_location.open(mode=\"rb\") as f:\n",
    "        loaded_encodings = pickle.load(f)\n",
    "\n",
    "    name = str\n",
    "\n",
    "    input_image = face_recognition.load_image_file(image_location)\n",
    "\n",
    "\n",
    "    input_face_locations = face_recognition.face_locations(\n",
    "        input_image, model=model\n",
    "    )\n",
    "    input_face_encodings = face_recognition.face_encodings(\n",
    "        input_image, input_face_locations\n",
    "    )\n",
    "\n",
    "    input_enc = [input_face_encodings[0][i] for i in range(len(input_face_encodings[0]))]\n",
    "    \n",
    "    df_input_enc = pd.DataFrame(input_enc).transpose()\n",
    "\n",
    "    pillow_image = Image.fromarray(input_image)\n",
    "    draw = ImageDraw.Draw(pillow_image)\n",
    "\n",
    "    for bounding_box, unknown_encoding in zip(\n",
    "        input_face_locations, input_face_encodings\n",
    "    ):\n",
    "        name = unique_name_list[_recognize_face(df_input_enc)[0]]\n",
    "        if not name:\n",
    "            name = \"Unknown\"\n",
    "        _display_face(draw, bounding_box, name)\n",
    "\n",
    "    del draw\n",
    "    rand = ''.join((random.choice(string.ascii_letters) for x in range(8)))\n",
    "    pillow_image.save(\"img_out/\" + rand + \".jpg\")\n",
    "    #pillow_image.show()\n",
    "    return name"
   ]
  },
  {
   "attachments": {},
   "cell_type": "markdown",
   "metadata": {},
   "source": [
    "Fungsi pembantu recognize_face() untuk memanggil model SVM"
   ]
  },
  {
   "cell_type": "code",
   "execution_count": 10,
   "metadata": {},
   "outputs": [],
   "source": [
    "def _recognize_face(input_enc):\n",
    "    id = model_svm.predict(input_enc)\n",
    "    return id"
   ]
  },
  {
   "attachments": {},
   "cell_type": "markdown",
   "metadata": {},
   "source": [
    "Fungsi pembantu recognize_face() untuk menampilkan wajah"
   ]
  },
  {
   "cell_type": "code",
   "execution_count": 11,
   "metadata": {},
   "outputs": [],
   "source": [
    "def _display_face(draw, bounding_box, name):\n",
    "    top, right, bottom, left = bounding_box\n",
    "    draw.rectangle(((left, top), (right, bottom)), outline=BOUNDING_BOX_COLOR)\n",
    "    text_left, text_top, text_right, text_bottom = draw.textbbox(\n",
    "        (left, bottom), name\n",
    "    )\n",
    "    draw.rectangle(\n",
    "        ((text_left, text_top), (text_right, text_bottom)),\n",
    "        fill=\"green\",\n",
    "        outline=\"green\",\n",
    "    )\n",
    "    draw.text(\n",
    "        (text_left, text_top),\n",
    "        name,\n",
    "        fill=\"white\",\n",
    "    )"
   ]
  },
  {
   "attachments": {},
   "cell_type": "markdown",
   "metadata": {},
   "source": [
    "Fungsi untuk validasi dan menghitung akurasi"
   ]
  },
  {
   "cell_type": "code",
   "execution_count": 12,
   "metadata": {},
   "outputs": [],
   "source": [
    "def validate(model: str = \"hog\"):\n",
    "    T = 0\n",
    "    F = 0\n",
    "    \n",
    "    for filepath in Path(\"validation\").rglob(\"*\"):\n",
    "        if filepath.is_file():\n",
    "            name = recognize_face(\n",
    "                image_location=str(filepath.absolute()), model=model\n",
    "            )\n",
    "            print(name,' | ', filepath.parent.name)\n",
    "            if name == filepath.parent.name:\n",
    "                T = T+1\n",
    "            else: F = F+1\n",
    "\n",
    "    accuracy = T/(T+F)*100\n",
    "    print(accuracy,'%')"
   ]
  },
  {
   "attachments": {},
   "cell_type": "markdown",
   "metadata": {},
   "source": [
    "Memanggil fungsi validasi"
   ]
  },
  {
   "cell_type": "code",
   "execution_count": 13,
   "metadata": {},
   "outputs": [
    {
     "name": "stdout",
     "output_type": "stream",
     "text": [
      "Bernard Hugo  |  Bernard Hugo\n",
      "Feelouis Elfredo  |  Feelouis Elfredo\n",
      "Marbella  |  Marbella\n",
      "Mario Iskandar  |  Mario Iskandar\n",
      "Moethia Shakira  |  Moethia Shakira\n",
      "Nicholas Javier  |  Nicholas Javier\n",
      "Raphael Alexander Lesmana  |  Raphael Alexander Lesmana\n",
      "Roger Julianto Angryawan  |  Roger Julianto Angryawan\n",
      "Shelly Alfianda  |  Shelly Alfianda\n",
      "Sidi Janardhana Gatra Parahita  |  Sidi Janardhana Gatra Parahita\n",
      "Shelly Alfianda  |  Yennifer Wilanata\n",
      "90.9090909090909 %\n"
     ]
    }
   ],
   "source": [
    "validate()"
   ]
  },
  {
   "attachments": {},
   "cell_type": "markdown",
   "metadata": {},
   "source": [
    "Fungsi untuk mengenali wajah menggunakan webcam"
   ]
  },
  {
   "cell_type": "code",
   "execution_count": 14,
   "metadata": {},
   "outputs": [],
   "source": [
    "def verify():\n",
    "    img_capture()\n",
    "    recognize_face(\"identify.jpg\")"
   ]
  },
  {
   "attachments": {},
   "cell_type": "markdown",
   "metadata": {},
   "source": [
    "Memanggil fungsi verify()"
   ]
  },
  {
   "cell_type": "code",
   "execution_count": 29,
   "metadata": {},
   "outputs": [],
   "source": [
    "verify()"
   ]
  }
 ],
 "metadata": {
  "kernelspec": {
   "display_name": "face_recognizer",
   "language": "python",
   "name": "python3"
  },
  "language_info": {
   "codemirror_mode": {
    "name": "ipython",
    "version": 3
   },
   "file_extension": ".py",
   "mimetype": "text/x-python",
   "name": "python",
   "nbconvert_exporter": "python",
   "pygments_lexer": "ipython3",
   "version": "3.9.13"
  },
  "orig_nbformat": 4
 },
 "nbformat": 4,
 "nbformat_minor": 2
}
